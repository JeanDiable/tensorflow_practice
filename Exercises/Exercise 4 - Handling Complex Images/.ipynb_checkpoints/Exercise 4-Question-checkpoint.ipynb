{
 "cells": [
  {
   "cell_type": "markdown",
   "metadata": {
    "colab_type": "text",
    "id": "UncprnB0ymAE"
   },
   "source": [
    "Below is code with a link to a happy or sad dataset which contains 80 images, 40 happy and 40 sad. \n",
    "Create a convolutional neural network that trains to 100% accuracy on these images,  which cancels training upon hitting training accuracy of >.999\n",
    "\n",
    "Hint -- it will work best with 3 convolutional layers."
   ]
  },
  {
   "cell_type": "code",
   "execution_count": 5,
   "metadata": {
    "colab": {},
    "colab_type": "code",
    "id": "7Vti6p3PxmpS"
   },
   "outputs": [
    {
     "name": "stdout",
     "output_type": "stream",
     "text": [
      "--2020-07-05 15:08:25--  https://storage.googleapis.com/laurencemoroney-blog.appspot.com/happy-or-sad.zip\n",
      "正在解析主机 storage.googleapis.com (storage.googleapis.com)... 172.217.24.16, 216.58.200.48, 172.217.160.80, ...\n",
      "正在连接 storage.googleapis.com (storage.googleapis.com)|172.217.24.16|:443... 已连接。\n",
      "已发出 HTTP 请求，正在等待回应... 200 OK\n",
      "长度：2670333 (2.5M) [application/zip]\n",
      "正在保存至: “/tmp/happy-or-sad.zip”\n",
      "\n",
      "/tmp/happy-or-sad.z 100%[===================>]   2.55M   321KB/s  用时 9.3s      \n",
      "\n",
      "2020-07-05 15:08:35 (280 KB/s) - 已保存 “/tmp/happy-or-sad.zip” [2670333/2670333])\n",
      "\n"
     ]
    }
   ],
   "source": [
    "import tensorflow as tf\n",
    "import os\n",
    "import zipfile\n",
    "\n",
    "\n",
    "DESIRED_ACCURACY = 0.999\n",
    "\n",
    "!wget --no-check-certificate \\\n",
    "    \"https://storage.googleapis.com/laurencemoroney-blog.appspot.com/happy-or-sad.zip\" \\\n",
    "    -O \"/tmp/happy-or-sad.zip\"\n",
    "\n",
    "zip_ref = zipfile.ZipFile(\"/tmp/happy-or-sad.zip\", 'r')\n",
    "zip_ref.extractall(\"/tmp/h-or-s\")\n",
    "zip_ref.close()\n",
    "\n",
    "class myCallback(tf.keras.callbacks.Callback):\n",
    "    def on_epoch_end(self, epoch, logs={}):\n",
    "        if (logs.get('acc') > 0.99):\n",
    "            print('Reached 99% accuracy so cancelling training!')\n",
    "            self.model.stop_training = True\n",
    "\n",
    "    \n",
    "\n",
    "callbacks = myCallback()"
   ]
  },
  {
   "cell_type": "code",
   "execution_count": 9,
   "metadata": {
    "colab": {},
    "colab_type": "code",
    "id": "6DLGbXXI1j_V"
   },
   "outputs": [],
   "source": [
    "# This Code Block should Define and Compile the Model\n",
    "model = tf.keras.models.Sequential([\n",
    "    tf.keras.layers.Conv2D(16,(3,3),activation = 'relu', input_shape = (150,150,3)),\n",
    "    tf.keras.layers.MaxPooling2D(2,2),\n",
    "    tf.keras.layers.Conv2D(32,(3,3),activation = 'relu'),\n",
    "    tf.keras.layers.MaxPooling2D(2,2),\n",
    "    tf.keras.layers.Conv2D(32,(3,3),activation = 'relu'),\n",
    "    tf.keras.layers.MaxPooling2D(2,2),\n",
    "    tf.keras.layers.Flatten(),\n",
    "    tf.keras.layers.Dense(512,activation = 'relu'),\n",
    "    tf.keras.layers.Dense(1,activation = 'sigmoid')\n",
    "])\n",
    "\n",
    "from tensorflow.keras.optimizers import RMSprop\n",
    "\n",
    "model.compile(optimizer = RMSprop(lr=0.001),\n",
    "              loss = 'binary_crossentropy',\n",
    "              metrics = ['acc'])"
   ]
  },
  {
   "cell_type": "code",
   "execution_count": 10,
   "metadata": {
    "colab": {},
    "colab_type": "code",
    "id": "4Ap9fUJE1vVu"
   },
   "outputs": [
    {
     "name": "stdout",
     "output_type": "stream",
     "text": [
      "Found 80 images belonging to 2 classes.\n"
     ]
    }
   ],
   "source": [
    "# This code block should create an instance of an ImageDataGenerator called train_datagen \n",
    "# And a train_generator by calling train_datagen.flow_from_directory\n",
    "\n",
    "from tensorflow.keras.preprocessing.image import ImageDataGenerator\n",
    "\n",
    "train_datagen = ImageDataGenerator(rescale = 1/255)\n",
    "\n",
    "train_generator = train_datagen.flow_from_directory(\n",
    "        '/tmp/h-or-s',\n",
    "        target_size = (150,150),\n",
    "        batch_size = 10,\n",
    "        class_mode = 'binary')\n",
    "\n",
    "# Expected output: 'Found 80 images belonging to 2 classes'"
   ]
  },
  {
   "cell_type": "code",
   "execution_count": 11,
   "metadata": {
    "colab": {},
    "colab_type": "code",
    "id": "48dLm13U1-Le"
   },
   "outputs": [
    {
     "name": "stdout",
     "output_type": "stream",
     "text": [
      "Epoch 1/15\n",
      "2/2 [==============================] - 1s 676ms/step - loss: 2.1814 - acc: 0.5000\n",
      "Epoch 2/15\n",
      "2/2 [==============================] - 1s 589ms/step - loss: 0.7170 - acc: 0.8000\n",
      "Epoch 3/15\n",
      "2/2 [==============================] - 1s 547ms/step - loss: 0.6412 - acc: 0.6500\n",
      "Epoch 4/15\n",
      "2/2 [==============================] - 1s 581ms/step - loss: 0.7147 - acc: 0.5000\n",
      "Epoch 5/15\n",
      "2/2 [==============================] - 1s 565ms/step - loss: 0.6787 - acc: 0.6500\n",
      "Epoch 6/15\n",
      "2/2 [==============================] - 1s 605ms/step - loss: 0.6202 - acc: 0.5500\n",
      "Epoch 7/15\n",
      "2/2 [==============================] - 1s 572ms/step - loss: 0.5587 - acc: 0.6500\n",
      "Epoch 8/15\n",
      "2/2 [==============================] - 1s 599ms/step - loss: 0.5800 - acc: 0.5500\n",
      "Epoch 9/15\n",
      "2/2 [==============================] - 1s 598ms/step - loss: 0.4402 - acc: 0.9500\n",
      "Epoch 10/15\n",
      "2/2 [==============================] - 2s 815ms/step - loss: 0.7754 - acc: 0.5000\n",
      "Epoch 11/15\n",
      "2/2 [==============================] - 1s 730ms/step - loss: 0.3877 - acc: 0.9000\n",
      "Epoch 12/15\n",
      "2/2 [==============================] - 1s 720ms/step - loss: 0.4769 - acc: 0.6500\n",
      "Epoch 13/15\n",
      "1/2 [==============>...............] - ETA: 0s - loss: 0.1770 - acc: 1.0000Reached 99% accuracy so cancelling training!\n",
      "2/2 [==============================] - 1s 656ms/step - loss: 0.1484 - acc: 1.0000\n"
     ]
    }
   ],
   "source": [
    "# This code block should call model.fit_generator and train for\n",
    "# a number of epochs. \n",
    "history = model.fit_generator(\n",
    "      train_generator,\n",
    "      steps_per_epoch = 2,\n",
    "      epochs = 15,\n",
    "      verbose = 1,\n",
    "      callbacks = [callbacks])\n",
    "    \n",
    "# Expected output: \"Reached 99.9% accuracy so cancelling training!\"\""
   ]
  },
  {
   "cell_type": "code",
   "execution_count": null,
   "metadata": {},
   "outputs": [],
   "source": [
    "print(test_images)"
   ]
  }
 ],
 "metadata": {
  "colab": {
   "name": "Exercise4-Question.ipynb",
   "provenance": [],
   "version": "0.3.2"
  },
  "kernelspec": {
   "display_name": "Python 3",
   "language": "python",
   "name": "python3"
  },
  "language_info": {
   "codemirror_mode": {
    "name": "ipython",
    "version": 3
   },
   "file_extension": ".py",
   "mimetype": "text/x-python",
   "name": "python",
   "nbconvert_exporter": "python",
   "pygments_lexer": "ipython3",
   "version": "3.6.8"
  }
 },
 "nbformat": 4,
 "nbformat_minor": 1
}
