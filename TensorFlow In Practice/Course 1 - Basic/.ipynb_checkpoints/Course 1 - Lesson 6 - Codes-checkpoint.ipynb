{
 "cells": [
  {
   "cell_type": "code",
   "execution_count": 1,
   "metadata": {},
   "outputs": [
    {
     "name": "stdout",
     "output_type": "stream",
     "text": [
      "--2020-07-04 22:40:38--  https://storage.googleapis.com/laurencemoroney-blog.appspot.com/horse-or-human.zip\n",
      "Resolving storage.googleapis.com (storage.googleapis.com)... 172.217.24.16, 172.217.27.144, 172.217.160.112, ...\n",
      "Connecting to storage.googleapis.com (storage.googleapis.com)|172.217.24.16|:443... connected.\n",
      "HTTP request sent, awaiting response... 200 OK\n",
      "Length: 149574867 (143M) [application/zip]\n",
      "Saving to: ‘/tmp/horse-or-human.zip’\n",
      "\n",
      "/tmp/horse-or-human 100%[===================>] 142.65M  4.05MB/s    in 38s     \n",
      "\n",
      "2020-07-04 22:41:18 (3.72 MB/s) - ‘/tmp/horse-or-human.zip’ saved [149574867/149574867]\n",
      "\n",
      "--2020-07-04 22:41:18--  https://storage.googleapis.com/laurencemoroney-blog.appspot.com/validation-horse-or-human.zip\n",
      "Resolving storage.googleapis.com (storage.googleapis.com)... 172.217.27.144, 172.217.160.112, 216.58.200.240, ...\n",
      "Connecting to storage.googleapis.com (storage.googleapis.com)|172.217.27.144|:443... connected.\n",
      "HTTP request sent, awaiting response... 200 OK\n",
      "Length: 11480187 (11M) [application/zip]\n",
      "Saving to: ‘/tmp/validation-horse-or-human.zip’\n",
      "\n",
      "/tmp/validation-hor 100%[===================>]  10.95M  2.46MB/s    in 5.2s    \n",
      "\n",
      "2020-07-04 22:41:24 (2.09 MB/s) - ‘/tmp/validation-horse-or-human.zip’ saved [11480187/11480187]\n",
      "\n"
     ]
    }
   ],
   "source": [
    "!wget --no-check-certificate \\\n",
    "    https://storage.googleapis.com/laurencemoroney-blog.appspot.com/horse-or-human.zip \\\n",
    "    -O /tmp/horse-or-human.zip\n",
    "    \n",
    "!wget --no-check-certificate \\\n",
    "    https://storage.googleapis.com/laurencemoroney-blog.appspot.com/validation-horse-or-human.zip \\\n",
    "    -O /tmp/validation-horse-or-human.zip"
   ]
  },
  {
   "cell_type": "code",
   "execution_count": 3,
   "metadata": {},
   "outputs": [],
   "source": [
    "import os \n",
    "import zipfile\n",
    "\n",
    "local_zip = '/tmp/horse-or-human.zip'\n",
    "zip_ref= zipfile.ZipFile(local_zip, 'r')\n",
    "zip_ref.extractall('/tmp/horse-or-human')\n",
    "local_zip = '/tmp/validation-horse-or-human.zip'\n",
    "zip_ref= zipfile.ZipFile(local_zip, 'r')\n",
    "zip_ref.extractall('/tmp/validation-horse-or-human')\n",
    "zip_ref.close()"
   ]
  },
  {
   "cell_type": "code",
   "execution_count": 6,
   "metadata": {},
   "outputs": [],
   "source": [
    "train_horse_dir = os.path.join('/tmp/horse-or-human/horses')\n",
    "train_human_dir = os.path.join('/tmp/horse-or-human/humans')\n",
    "validation_horse_dir = os.path.join('/tmp/validation-horse-or-human/validation-horses')\n",
    "validation_human_dir = os.path.join('/tmp/validation-horse-or-human/validation-humans')"
   ]
  },
  {
   "cell_type": "code",
   "execution_count": 7,
   "metadata": {},
   "outputs": [],
   "source": [
    "import tensorflow as tf\n",
    "model = tf.keras.models.Sequential([\n",
    "    tf.keras.layers.Conv2D(16,(3,3), activation = 'relu', input_shape = (150, 150, 3)),\n",
    "    tf.keras.layers.MaxPooling2D(2,2),\n",
    "    tf.keras.layers.Conv2D(32,(3,3), activation = 'relu'),\n",
    "    tf.keras.layers.MaxPooling2D(2,2),\n",
    "    tf.keras.layers.Conv2D(64,(3,3), activation = 'relu'),\n",
    "    tf.keras.layers.MaxPooling2D(2,2),\n",
    "    tf.keras.layers.Conv2D(64,(3,3), activation = 'relu'),\n",
    "    tf.keras.layers.MaxPooling2D(2,2),\n",
    "    tf.keras.layers.Flatten(),\n",
    "    tf.keras.layers.Dense(512, activation = 'relu'),\n",
    "    tf.keras.layers.Dense(1, activation = 'sigmoid')\n",
    "])"
   ]
  },
  {
   "cell_type": "code",
   "execution_count": 8,
   "metadata": {},
   "outputs": [
    {
     "name": "stdout",
     "output_type": "stream",
     "text": [
      "Model: \"sequential\"\n",
      "_________________________________________________________________\n",
      "Layer (type)                 Output Shape              Param #   \n",
      "=================================================================\n",
      "conv2d (Conv2D)              (None, 148, 148, 16)      448       \n",
      "_________________________________________________________________\n",
      "max_pooling2d (MaxPooling2D) (None, 74, 74, 16)        0         \n",
      "_________________________________________________________________\n",
      "conv2d_1 (Conv2D)            (None, 72, 72, 32)        4640      \n",
      "_________________________________________________________________\n",
      "max_pooling2d_1 (MaxPooling2 (None, 36, 36, 32)        0         \n",
      "_________________________________________________________________\n",
      "conv2d_2 (Conv2D)            (None, 34, 34, 64)        18496     \n",
      "_________________________________________________________________\n",
      "max_pooling2d_2 (MaxPooling2 (None, 17, 17, 64)        0         \n",
      "_________________________________________________________________\n",
      "conv2d_3 (Conv2D)            (None, 15, 15, 64)        36928     \n",
      "_________________________________________________________________\n",
      "max_pooling2d_3 (MaxPooling2 (None, 7, 7, 64)          0         \n",
      "_________________________________________________________________\n",
      "flatten (Flatten)            (None, 3136)              0         \n",
      "_________________________________________________________________\n",
      "dense (Dense)                (None, 512)               1606144   \n",
      "_________________________________________________________________\n",
      "dense_1 (Dense)              (None, 1)                 513       \n",
      "=================================================================\n",
      "Total params: 1,667,169\n",
      "Trainable params: 1,667,169\n",
      "Non-trainable params: 0\n",
      "_________________________________________________________________\n"
     ]
    }
   ],
   "source": [
    "model.summary()"
   ]
  },
  {
   "cell_type": "code",
   "execution_count": 10,
   "metadata": {},
   "outputs": [],
   "source": [
    "from tensorflow.keras.optimizers import RMSprop\n",
    "\n",
    "model.compile(loss = 'binary_crossentropy',\n",
    "              optimizer = RMSprop(lr=0.001),\n",
    "              metrics = ['acc'])"
   ]
  },
  {
   "cell_type": "code",
   "execution_count": 11,
   "metadata": {},
   "outputs": [
    {
     "name": "stdout",
     "output_type": "stream",
     "text": [
      "Found 1027 images belonging to 2 classes.\n",
      "Found 256 images belonging to 2 classes.\n"
     ]
    }
   ],
   "source": [
    "from tensorflow.keras.preprocessing.image import ImageDataGenerator\n",
    "\n",
    "train_datagen = ImageDataGenerator(rescale = 1/255)\n",
    "validation_datagen = ImageDataGenerator(rescale = 1/255)\n",
    "\n",
    "train_generator = train_datagen.flow_from_directory(\n",
    "        '/tmp/horse-or-human',\n",
    "        target_size = (150,150),\n",
    "        batch_size = 128,\n",
    "        class_mode = 'binary')\n",
    "\n",
    "validation_generator = validation_datagen.flow_from_directory(\n",
    "        '/tmp/validation-horse-or-human',\n",
    "        target_size = (150,150),\n",
    "        batch_size = 32,\n",
    "        class_mode = 'binary')"
   ]
  },
  {
   "cell_type": "code",
   "execution_count": 14,
   "metadata": {},
   "outputs": [
    {
     "name": "stdout",
     "output_type": "stream",
     "text": [
      "Epoch 1/15\n",
      "8/8 [==============================] - 56s 7s/step - loss: 0.7285 - acc: 0.6618 - val_loss: 3.6810 - val_acc: 0.5000\n",
      "Epoch 2/15\n",
      "8/8 [==============================] - 52s 6s/step - loss: 0.9410 - acc: 0.6819 - val_loss: 0.3226 - val_acc: 0.8711\n",
      "Epoch 3/15\n",
      "8/8 [==============================] - 62s 8s/step - loss: 0.3426 - acc: 0.8432 - val_loss: 1.7034 - val_acc: 0.7891\n",
      "Epoch 4/15\n",
      "8/8 [==============================] - 52s 6s/step - loss: 0.2307 - acc: 0.9143 - val_loss: 1.1905 - val_acc: 0.8242\n",
      "Epoch 5/15\n",
      "8/8 [==============================] - 66s 8s/step - loss: 0.1513 - acc: 0.9404 - val_loss: 0.8714 - val_acc: 0.7969\n",
      "Epoch 6/15\n",
      "8/8 [==============================] - 61s 8s/step - loss: 0.2492 - acc: 0.9132 - val_loss: 0.6827 - val_acc: 0.8672\n",
      "Epoch 7/15\n",
      "8/8 [==============================] - 59s 7s/step - loss: 0.6615 - acc: 0.8053 - val_loss: 0.7156 - val_acc: 0.8008\n",
      "Epoch 8/15\n",
      "8/8 [==============================] - 61s 8s/step - loss: 0.1423 - acc: 0.9477 - val_loss: 1.3831 - val_acc: 0.7891\n",
      "Epoch 9/15\n",
      "8/8 [==============================] - 61s 8s/step - loss: 0.0555 - acc: 0.9822 - val_loss: 0.8321 - val_acc: 0.8867\n",
      "Epoch 10/15\n",
      "8/8 [==============================] - 65s 8s/step - loss: 0.1132 - acc: 0.9533 - val_loss: 0.3570 - val_acc: 0.9062\n",
      "Epoch 11/15\n",
      "8/8 [==============================] - 74s 9s/step - loss: 0.0326 - acc: 0.9922 - val_loss: 0.8028 - val_acc: 0.8945\n",
      "Epoch 12/15\n",
      "8/8 [==============================] - 50s 6s/step - loss: 0.5407 - acc: 0.8463 - val_loss: 1.5071 - val_acc: 0.7422\n",
      "Epoch 13/15\n",
      "8/8 [==============================] - 52s 7s/step - loss: 0.0607 - acc: 0.9863 - val_loss: 0.7401 - val_acc: 0.8984\n",
      "Epoch 14/15\n",
      "8/8 [==============================] - 61s 8s/step - loss: 0.0225 - acc: 0.9967 - val_loss: 1.0648 - val_acc: 0.8672\n",
      "Epoch 15/15\n",
      "8/8 [==============================] - 53s 7s/step - loss: 0.0381 - acc: 0.9819 - val_loss: 0.8821 - val_acc: 0.8984\n"
     ]
    }
   ],
   "source": [
    "history = model.fit_generator(\n",
    "        train_generator,\n",
    "        steps_per_epoch = 8,\n",
    "        epochs = 15,\n",
    "        verbose = 1,\n",
    "        validation_data = validation_generator,\n",
    "        validation_steps = 8)"
   ]
  },
  {
   "cell_type": "code",
   "execution_count": null,
   "metadata": {},
   "outputs": [],
   "source": []
  },
  {
   "cell_type": "code",
   "execution_count": null,
   "metadata": {},
   "outputs": [],
   "source": [
    "import numpy as np\n",
    "from google.colab import files\n",
    "from keras.preprocessing import image\n",
    "\n",
    "uploaded = files.upload()\n",
    "\n",
    "for fn in uploaded.keys():\n",
    " \n",
    "  # predicting images\n",
    "  path = '/content/' + fn\n",
    "  img = image.load_img(path, target_size=(150, 150))\n",
    "  x = image.img_to_array(img)\n",
    "  x = np.expand_dims(x, axis=0)\n",
    "\n",
    "  images = np.vstack([x])\n",
    "  classes = model.predict(images, batch_size=10)\n",
    "  print(classes[0])\n",
    "  if classes[0]>0.5:\n",
    "    print(fn + \" is a human\")\n",
    "  else:\n",
    "    print(fn + \" is a horse\")\n",
    " "
   ]
  },
  {
   "cell_type": "code",
   "execution_count": null,
   "metadata": {},
   "outputs": [],
   "source": []
  },
  {
   "cell_type": "code",
   "execution_count": null,
   "metadata": {},
   "outputs": [],
   "source": []
  },
  {
   "cell_type": "code",
   "execution_count": null,
   "metadata": {},
   "outputs": [],
   "source": []
  }
 ],
 "metadata": {
  "kernelspec": {
   "display_name": "Python 3",
   "language": "python",
   "name": "python3"
  },
  "language_info": {
   "codemirror_mode": {
    "name": "ipython",
    "version": 3
   },
   "file_extension": ".py",
   "mimetype": "text/x-python",
   "name": "python",
   "nbconvert_exporter": "python",
   "pygments_lexer": "ipython3",
   "version": "3.6.8"
  }
 },
 "nbformat": 4,
 "nbformat_minor": 2
}
